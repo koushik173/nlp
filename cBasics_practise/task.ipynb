{
 "cells": [
  {
   "cell_type": "code",
   "execution_count": 1,
   "metadata": {},
   "outputs": [],
   "source": [
    "import pandas as pd\n",
    "df = pd.read_csv('D:/Professional/NLP/source/codeBasics/11_bag_of_n_grams/Fake_Real_Data.csv')"
   ]
  },
  {
   "cell_type": "code",
   "execution_count": 2,
   "metadata": {},
   "outputs": [
    {
     "data": {
      "text/html": [
       "<div>\n",
       "<style scoped>\n",
       "    .dataframe tbody tr th:only-of-type {\n",
       "        vertical-align: middle;\n",
       "    }\n",
       "\n",
       "    .dataframe tbody tr th {\n",
       "        vertical-align: top;\n",
       "    }\n",
       "\n",
       "    .dataframe thead th {\n",
       "        text-align: right;\n",
       "    }\n",
       "</style>\n",
       "<table border=\"1\" class=\"dataframe\">\n",
       "  <thead>\n",
       "    <tr style=\"text-align: right;\">\n",
       "      <th></th>\n",
       "      <th>Text</th>\n",
       "      <th>label</th>\n",
       "    </tr>\n",
       "  </thead>\n",
       "  <tbody>\n",
       "    <tr>\n",
       "      <th>0</th>\n",
       "      <td>Top Trump Surrogate BRUTALLY Stabs Him In The...</td>\n",
       "      <td>Fake</td>\n",
       "    </tr>\n",
       "    <tr>\n",
       "      <th>1</th>\n",
       "      <td>U.S. conservative leader optimistic of common ...</td>\n",
       "      <td>Real</td>\n",
       "    </tr>\n",
       "    <tr>\n",
       "      <th>2</th>\n",
       "      <td>Trump proposes U.S. tax overhaul, stirs concer...</td>\n",
       "      <td>Real</td>\n",
       "    </tr>\n",
       "    <tr>\n",
       "      <th>3</th>\n",
       "      <td>Court Forces Ohio To Allow Millions Of Illega...</td>\n",
       "      <td>Fake</td>\n",
       "    </tr>\n",
       "    <tr>\n",
       "      <th>4</th>\n",
       "      <td>Democrats say Trump agrees to work on immigrat...</td>\n",
       "      <td>Real</td>\n",
       "    </tr>\n",
       "  </tbody>\n",
       "</table>\n",
       "</div>"
      ],
      "text/plain": [
       "                                                Text label\n",
       "0   Top Trump Surrogate BRUTALLY Stabs Him In The...  Fake\n",
       "1  U.S. conservative leader optimistic of common ...  Real\n",
       "2  Trump proposes U.S. tax overhaul, stirs concer...  Real\n",
       "3   Court Forces Ohio To Allow Millions Of Illega...  Fake\n",
       "4  Democrats say Trump agrees to work on immigrat...  Real"
      ]
     },
     "execution_count": 2,
     "metadata": {},
     "output_type": "execute_result"
    }
   ],
   "source": [
    "df.head()"
   ]
  },
  {
   "cell_type": "code",
   "execution_count": 3,
   "metadata": {},
   "outputs": [
    {
     "data": {
      "text/plain": [
       "label\n",
       "Fake    5000\n",
       "Real    4900\n",
       "Name: count, dtype: int64"
      ]
     },
     "execution_count": 3,
     "metadata": {},
     "output_type": "execute_result"
    }
   ],
   "source": [
    "df.label.value_counts()"
   ]
  },
  {
   "cell_type": "code",
   "execution_count": 4,
   "metadata": {},
   "outputs": [],
   "source": [
    "df['category_num'] = df['label'].map({\n",
    "    'Fake': 0,\n",
    "    'Real': 1,\n",
    "})"
   ]
  },
  {
   "cell_type": "code",
   "execution_count": 5,
   "metadata": {},
   "outputs": [
    {
     "data": {
      "text/html": [
       "<div>\n",
       "<style scoped>\n",
       "    .dataframe tbody tr th:only-of-type {\n",
       "        vertical-align: middle;\n",
       "    }\n",
       "\n",
       "    .dataframe tbody tr th {\n",
       "        vertical-align: top;\n",
       "    }\n",
       "\n",
       "    .dataframe thead th {\n",
       "        text-align: right;\n",
       "    }\n",
       "</style>\n",
       "<table border=\"1\" class=\"dataframe\">\n",
       "  <thead>\n",
       "    <tr style=\"text-align: right;\">\n",
       "      <th></th>\n",
       "      <th>Text</th>\n",
       "      <th>label</th>\n",
       "      <th>category_num</th>\n",
       "    </tr>\n",
       "  </thead>\n",
       "  <tbody>\n",
       "    <tr>\n",
       "      <th>0</th>\n",
       "      <td>Top Trump Surrogate BRUTALLY Stabs Him In The...</td>\n",
       "      <td>Fake</td>\n",
       "      <td>0</td>\n",
       "    </tr>\n",
       "    <tr>\n",
       "      <th>1</th>\n",
       "      <td>U.S. conservative leader optimistic of common ...</td>\n",
       "      <td>Real</td>\n",
       "      <td>1</td>\n",
       "    </tr>\n",
       "    <tr>\n",
       "      <th>2</th>\n",
       "      <td>Trump proposes U.S. tax overhaul, stirs concer...</td>\n",
       "      <td>Real</td>\n",
       "      <td>1</td>\n",
       "    </tr>\n",
       "    <tr>\n",
       "      <th>3</th>\n",
       "      <td>Court Forces Ohio To Allow Millions Of Illega...</td>\n",
       "      <td>Fake</td>\n",
       "      <td>0</td>\n",
       "    </tr>\n",
       "    <tr>\n",
       "      <th>4</th>\n",
       "      <td>Democrats say Trump agrees to work on immigrat...</td>\n",
       "      <td>Real</td>\n",
       "      <td>1</td>\n",
       "    </tr>\n",
       "  </tbody>\n",
       "</table>\n",
       "</div>"
      ],
      "text/plain": [
       "                                                Text label  category_num\n",
       "0   Top Trump Surrogate BRUTALLY Stabs Him In The...  Fake             0\n",
       "1  U.S. conservative leader optimistic of common ...  Real             1\n",
       "2  Trump proposes U.S. tax overhaul, stirs concer...  Real             1\n",
       "3   Court Forces Ohio To Allow Millions Of Illega...  Fake             0\n",
       "4  Democrats say Trump agrees to work on immigrat...  Real             1"
      ]
     },
     "execution_count": 5,
     "metadata": {},
     "output_type": "execute_result"
    }
   ],
   "source": [
    "df.head()"
   ]
  },
  {
   "cell_type": "code",
   "execution_count": 6,
   "metadata": {},
   "outputs": [],
   "source": [
    "from sklearn.model_selection import train_test_split\n",
    "\n",
    "X_train, X_test, y_train, y_test = train_test_split(\n",
    "    df.Text, \n",
    "    df.category_num, \n",
    "    test_size=0.2, # 20% samples will go to test dataset\n",
    "    random_state=2022,\n",
    "    stratify=df.category_num\n",
    ")"
   ]
  },
  {
   "cell_type": "code",
   "execution_count": 11,
   "metadata": {},
   "outputs": [
    {
     "name": "stdout",
     "output_type": "stream",
     "text": [
      "(7920,)\n",
      "(1980,)\n"
     ]
    }
   ],
   "source": [
    "print(X_train.shape)\n",
    "print(X_test.shape)"
   ]
  },
  {
   "cell_type": "code",
   "execution_count": 18,
   "metadata": {},
   "outputs": [],
   "source": [
    "from sklearn.naive_bayes import MultinomialNB\n",
    "from sklearn.pipeline import Pipeline\n",
    "from sklearn.metrics import classification_report\n",
    "from sklearn.neighbors import KNeighborsClassifier\n",
    "from sklearn.feature_extraction.text import CountVectorizer\n",
    "from sklearn.ensemble import RandomForestClassifier  \n"
   ]
  },
  {
   "cell_type": "code",
   "execution_count": 15,
   "metadata": {},
   "outputs": [
    {
     "name": "stdout",
     "output_type": "stream",
     "text": [
      "pipline of unigram\n",
      "              precision    recall  f1-score   support\n",
      "\n",
      "           0       0.98      0.97      0.98      1000\n",
      "           1       0.97      0.98      0.98       980\n",
      "\n",
      "    accuracy                           0.98      1980\n",
      "   macro avg       0.98      0.98      0.98      1980\n",
      "weighted avg       0.98      0.98      0.98      1980\n",
      "\n",
      "pipline of bigram\n",
      "              precision    recall  f1-score   support\n",
      "\n",
      "           0       0.98      0.99      0.99      1000\n",
      "           1       0.99      0.98      0.99       980\n",
      "\n",
      "    accuracy                           0.99      1980\n",
      "   macro avg       0.99      0.99      0.99      1980\n",
      "weighted avg       0.99      0.99      0.99      1980\n",
      "\n",
      "pipline of trigram\n",
      "              precision    recall  f1-score   support\n",
      "\n",
      "           0       0.99      0.99      0.99      1000\n",
      "           1       0.99      0.99      0.99       980\n",
      "\n",
      "    accuracy                           0.99      1980\n",
      "   macro avg       0.99      0.99      0.99      1980\n",
      "weighted avg       0.99      0.99      0.99      1980\n",
      "\n"
     ]
    }
   ],
   "source": [
    "# pipline of unigram\n",
    "print('pipline of unigram')\n",
    "clf_uni = Pipeline([\n",
    "    ('vector_bow', CountVectorizer(ngram_range=(1,1))),\n",
    "    ('multi_naive', MultinomialNB())\n",
    "])\n",
    "clf_uni.fit(X_train, y_train)\n",
    "\n",
    "y_pred = clf_uni.predict(X_test)\n",
    "print(classification_report(y_test, y_pred))\n",
    "\n",
    "# pipline of bigram\n",
    "print('pipline of bigram')\n",
    "clf_bi = Pipeline([\n",
    "    ('vector_bow', CountVectorizer(ngram_range=(1,2))),\n",
    "    ('multi_naive', MultinomialNB())\n",
    "])\n",
    "clf_bi.fit(X_train, y_train)\n",
    "\n",
    "y_pred = clf_bi.predict(X_test)\n",
    "print(classification_report(y_test, y_pred))\n",
    "\n",
    "# pipline of trigram\n",
    "print('pipline of trigram')\n",
    "clf_tri = Pipeline([\n",
    "    ('vector_bow', CountVectorizer(ngram_range=(1,3))),\n",
    "    ('multi_naive', MultinomialNB())\n",
    "])\n",
    "clf_tri.fit(X_train, y_train)\n",
    "\n",
    "y_pred = clf_tri.predict(X_test)\n",
    "print(classification_report(y_test, y_pred))"
   ]
  },
  {
   "cell_type": "code",
   "execution_count": 16,
   "metadata": {},
   "outputs": [
    {
     "name": "stdout",
     "output_type": "stream",
     "text": [
      "pipline of unigram\n",
      "              precision    recall  f1-score   support\n",
      "\n",
      "           0       0.96      0.93      0.95      1000\n",
      "           1       0.93      0.96      0.95       980\n",
      "\n",
      "    accuracy                           0.95      1980\n",
      "   macro avg       0.95      0.95      0.95      1980\n",
      "weighted avg       0.95      0.95      0.95      1980\n",
      "\n",
      "pipline of bigram\n",
      "              precision    recall  f1-score   support\n",
      "\n",
      "           0       0.97      0.77      0.86      1000\n",
      "           1       0.81      0.98      0.88       980\n",
      "\n",
      "    accuracy                           0.87      1980\n",
      "   macro avg       0.89      0.88      0.87      1980\n",
      "weighted avg       0.89      0.87      0.87      1980\n",
      "\n",
      "pipline of trigram\n",
      "              precision    recall  f1-score   support\n",
      "\n",
      "           0       0.96      0.49      0.65      1000\n",
      "           1       0.65      0.98      0.78       980\n",
      "\n",
      "    accuracy                           0.73      1980\n",
      "   macro avg       0.81      0.74      0.72      1980\n",
      "weighted avg       0.81      0.73      0.72      1980\n",
      "\n"
     ]
    }
   ],
   "source": [
    "# pipline of unigram\n",
    "print('pipline of unigram')\n",
    "clf_uni = Pipeline([\n",
    "    ('vector_bow', CountVectorizer(ngram_range=(1,1))),\n",
    "    ('knn_cls', KNeighborsClassifier(n_neighbors=10, metric='euclidean' ))\n",
    "])\n",
    "clf_uni.fit(X_train, y_train)\n",
    "\n",
    "y_pred = clf_uni.predict(X_test)\n",
    "print(classification_report(y_test, y_pred))\n",
    "\n",
    "# pipline of bigram\n",
    "print('pipline of bigram')\n",
    "clf_bi = Pipeline([\n",
    "    ('vector_bow', CountVectorizer(ngram_range=(1,2))),\n",
    "    ('knn_cls', KNeighborsClassifier(n_neighbors=10, metric='euclidean' ))\n",
    "])\n",
    "clf_bi.fit(X_train, y_train)\n",
    "\n",
    "y_pred = clf_bi.predict(X_test)\n",
    "print(classification_report(y_test, y_pred))\n",
    "\n",
    "# pipline of trigram\n",
    "print('pipline of trigram')\n",
    "clf_tri = Pipeline([\n",
    "    ('vector_bow', CountVectorizer(ngram_range=(1,3))),\n",
    "    ('knn_cls', KNeighborsClassifier(n_neighbors=10, metric='euclidean' ))\n",
    "])\n",
    "clf_tri.fit(X_train, y_train)\n",
    "\n",
    "y_pred = clf_tri.predict(X_test)\n",
    "print(classification_report(y_test, y_pred))"
   ]
  },
  {
   "cell_type": "code",
   "execution_count": 17,
   "metadata": {},
   "outputs": [
    {
     "name": "stdout",
     "output_type": "stream",
     "text": [
      "pipline of unigram\n",
      "              precision    recall  f1-score   support\n",
      "\n",
      "           0       0.98      0.85      0.91      1000\n",
      "           1       0.86      0.99      0.92       980\n",
      "\n",
      "    accuracy                           0.92      1980\n",
      "   macro avg       0.92      0.92      0.92      1980\n",
      "weighted avg       0.92      0.92      0.92      1980\n",
      "\n",
      "pipline of bigram\n",
      "              precision    recall  f1-score   support\n",
      "\n",
      "           0       0.99      0.71      0.83      1000\n",
      "           1       0.77      1.00      0.87       980\n",
      "\n",
      "    accuracy                           0.85      1980\n",
      "   macro avg       0.88      0.85      0.85      1980\n",
      "weighted avg       0.88      0.85      0.85      1980\n",
      "\n",
      "pipline of trigram\n",
      "              precision    recall  f1-score   support\n",
      "\n",
      "           0       0.99      0.55      0.71      1000\n",
      "           1       0.69      1.00      0.81       980\n",
      "\n",
      "    accuracy                           0.77      1980\n",
      "   macro avg       0.84      0.77      0.76      1980\n",
      "weighted avg       0.84      0.77      0.76      1980\n",
      "\n"
     ]
    }
   ],
   "source": [
    "# pipline of unigram\n",
    "print('pipline of unigram')\n",
    "clf_uni = Pipeline([\n",
    "    ('vector_bow', CountVectorizer(ngram_range=(1,1))),\n",
    "    ('knn_cls', KNeighborsClassifier(n_neighbors=10, metric='cosine' ))\n",
    "])\n",
    "clf_uni.fit(X_train, y_train)\n",
    "\n",
    "y_pred = clf_uni.predict(X_test)\n",
    "print(classification_report(y_test, y_pred))\n",
    "\n",
    "# pipline of bigram\n",
    "print('pipline of bigram')\n",
    "clf_bi = Pipeline([\n",
    "    ('vector_bow', CountVectorizer(ngram_range=(1,2))),\n",
    "    ('knn_cls', KNeighborsClassifier(n_neighbors=10, metric='cosine' ))\n",
    "])\n",
    "clf_bi.fit(X_train, y_train)\n",
    "\n",
    "y_pred = clf_bi.predict(X_test)\n",
    "print(classification_report(y_test, y_pred))\n",
    "\n",
    "# pipline of trigram\n",
    "print('pipline of trigram')\n",
    "clf_tri = Pipeline([\n",
    "    ('vector_bow', CountVectorizer(ngram_range=(1,3))),\n",
    "    ('knn_cls', KNeighborsClassifier(n_neighbors=10, metric='cosine' ))\n",
    "])\n",
    "clf_tri.fit(X_train, y_train)\n",
    "\n",
    "y_pred = clf_tri.predict(X_test)\n",
    "print(classification_report(y_test, y_pred))"
   ]
  },
  {
   "cell_type": "code",
   "execution_count": 19,
   "metadata": {},
   "outputs": [
    {
     "name": "stdout",
     "output_type": "stream",
     "text": [
      "pipline of trigram\n",
      "              precision    recall  f1-score   support\n",
      "\n",
      "           0       0.96      0.99      0.97      1000\n",
      "           1       0.99      0.96      0.97       980\n",
      "\n",
      "    accuracy                           0.97      1980\n",
      "   macro avg       0.97      0.97      0.97      1980\n",
      "weighted avg       0.97      0.97      0.97      1980\n",
      "\n"
     ]
    }
   ],
   "source": [
    "# pipline of trigram\n",
    "print('pipline of trigram')\n",
    "clf_tri = Pipeline([\n",
    "    ('vector_bow', CountVectorizer(ngram_range=(1,3))),\n",
    "    ('rdf_cls', RandomForestClassifier(n_estimators= 10, criterion=\"entropy\"))\n",
    "])\n",
    "clf_tri.fit(X_train, y_train)\n",
    "\n",
    "y_pred = clf_tri.predict(X_test)\n",
    "print(classification_report(y_test, y_pred))"
   ]
  },
  {
   "cell_type": "code",
   "execution_count": null,
   "metadata": {},
   "outputs": [],
   "source": [
    "-"
   ]
  }
 ],
 "metadata": {
  "kernelspec": {
   "display_name": "base",
   "language": "python",
   "name": "python3"
  },
  "language_info": {
   "codemirror_mode": {
    "name": "ipython",
    "version": 3
   },
   "file_extension": ".py",
   "mimetype": "text/x-python",
   "name": "python",
   "nbconvert_exporter": "python",
   "pygments_lexer": "ipython3",
   "version": "3.11.5"
  }
 },
 "nbformat": 4,
 "nbformat_minor": 2
}

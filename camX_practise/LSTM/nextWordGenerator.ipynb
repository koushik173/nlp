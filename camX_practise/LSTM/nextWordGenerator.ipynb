{
 "cells": [
  {
   "cell_type": "code",
   "execution_count": 38,
   "metadata": {},
   "outputs": [],
   "source": [
    "faqs = \"\"\"About the Program\n",
    "What is the course fee for  Data Science Mentorship Program (DSMP 2023)\n",
    "The course follows a monthly subscription model where you have to make monthly payments of Rs 799/month.\n",
    "What is the total duration of the course?\n",
    "The total duration of the course is 7 months. So the total course fee becomes 799*7 = Rs 5600(approx.)\n",
    "What is the syllabus of the mentorship program?\n",
    "We will be covering the following modules:\n",
    "Python Fundamentals\n",
    "Python libraries for Data Science\n",
    "Data Analysis\n",
    "SQL for Data Science\n",
    "Maths for Machine Learning\n",
    "ML Algorithms\n",
    "Practical ML\n",
    "MLOPs\n",
    "Case studies\n",
    "You can check the detailed syllabus here - https://learnwith.campusx.in/courses/CampusX-Data-Science-Mentorship-Program-637339afe4b0615a1bbed390\n",
    "Will Deep Learning and NLP be a part of this program?\n",
    "No, NLP and Deep Learning both are not a part of this program’s curriculum.\n",
    "What if I miss a live session? Will I get a recording of the session?\n",
    "Yes all our sessions are recorded, so even if you miss a session you can go back and watch the recording.\n",
    "Where can I find the class schedule?\n",
    "Checkout this google sheet to see month by month time table of the course - https://docs.google.com/spreadsheets/d/16OoTax_A6ORAeCg4emgexhqqPv3noQPYKU7RJ6ArOzk/edit?usp=sharing.\n",
    "What is the time duration of all the live sessions?\n",
    "Roughly, all the sessions last 2 hours.\n",
    "What is the language spoken by the instructor during the sessions?\n",
    "Hinglish\n",
    "How will I be informed about the upcoming class?\n",
    "You will get a mail from our side before every paid session once you become a paid user.\n",
    "Can I do this course if I am from a non-tech background?\n",
    "Yes, absolutely.\n",
    "I am late, can I join the program in the middle?\n",
    "Absolutely, you can join the program anytime.\n",
    "If I join/pay in the middle, will I be able to see all the past lectures?\n",
    "Yes, once you make the payment you will be able to see all the past content in your dashboard.\n",
    "Where do I have to submit the task?\n",
    "You don’t have to submit the task. We will provide you with the solutions, you have to self evaluate the task yourself.\n",
    "Will we do case studies in the program?\n",
    "Yes.\n",
    "Where can we contact you?\n",
    "You can mail us at nitish.campusx@gmail.com\n",
    "Payment/Registration related questions\n",
    "Where do we have to make our payments? Your YouTube channel or website?\n",
    "You have to make all your monthly payments on our website. Here is the link for our website - https://learnwith.campusx.in/\n",
    "Can we pay the entire amount of Rs 5600 all at once?\n",
    "Unfortunately no, the program follows a monthly subscription model.\n",
    "What is the validity of monthly subscription? Suppose if I pay on 15th Jan, then do I have to pay again on 1st Feb or 15th Feb\n",
    "15th Feb. The validity period is 30 days from the day you make the payment. So essentially you can join anytime you don’t have to wait for a month to end.\n",
    "What if I don’t like the course after making the payment. What is the refund policy?\n",
    "You get a 7 days refund period from the day you have made the payment.\n",
    "I am living outside India and I am not able to make the payment on the website, what should I do?\n",
    "You have to contact us by sending a mail at nitish.campusx@gmail.com\n",
    "Post registration queries\n",
    "Till when can I view the paid videos on the website?\n",
    "This one is tricky, so read carefully. You can watch the videos till your subscription is valid. Suppose you have purchased subscription on 21st Jan, you will be able to watch all the past paid sessions in the period of 21st Jan to 20th Feb. But after 21st Feb you will have to purchase the subscription again.\n",
    "But once the course is over and you have paid us Rs 5600(or 7 installments of Rs 799) you will be able to watch the paid sessions till Aug 2024.\n",
    "Why lifetime validity is not provided?\n",
    "Because of the low course fee.\n",
    "Where can I reach out in case of a doubt after the session?\n",
    "You will have to fill a google form provided in your dashboard and our team will contact you for a 1 on 1 doubt clearance session\n",
    "If I join the program late, can I still ask past week doubts?\n",
    "Yes, just select past week doubt in the doubt clearance google form.\n",
    "I am living outside India and I am not able to make the payment on the website, what should I do?\n",
    "You have to contact us by sending a mail at nitish.campusx@gmai.com\n",
    "Certificate and Placement Assistance related queries\n",
    "What is the criteria to get the certificate?\n",
    "There are 2 criterias:\n",
    "You have to pay the entire fee of Rs 5600\n",
    "You have to attempt all the course assessments.\n",
    "I am joining late. How can I pay payment of the earlier months?\n",
    "You will get a link to pay fee of earlier months in your dashboard once you pay for the current month.\n",
    "I have read that Placement assistance is a part of this program. What comes under Placement assistance?\n",
    "This is to clarify that Placement assistance does not mean Placement guarantee. So we dont guarantee you any jobs or for that matter even interview calls. So if you are planning to join this course just for placements, I am afraid you will be disappointed. Here is what comes under placement assistance\n",
    "Portfolio Building sessions\n",
    "Soft skill sessions\n",
    "Sessions with industry mentors\n",
    "Discussion on Job hunting strategies\n",
    "\"\"\""
   ]
  },
  {
   "cell_type": "code",
   "execution_count": 39,
   "metadata": {},
   "outputs": [],
   "source": [
    "import tensorflow as tf\n",
    "from tensorflow.keras.preprocessing.text import Tokenizer"
   ]
  },
  {
   "cell_type": "code",
   "execution_count": 40,
   "metadata": {},
   "outputs": [],
   "source": [
    "tokenizer = Tokenizer()"
   ]
  },
  {
   "cell_type": "code",
   "execution_count": 41,
   "metadata": {},
   "outputs": [],
   "source": [
    "tokenizer.fit_on_texts([faqs])"
   ]
  },
  {
   "cell_type": "code",
   "execution_count": 42,
   "metadata": {},
   "outputs": [
    {
     "data": {
      "text/plain": [
       "282"
      ]
     },
     "execution_count": 42,
     "metadata": {},
     "output_type": "execute_result"
    }
   ],
   "source": [
    "len(tokenizer.word_index)"
   ]
  },
  {
   "cell_type": "code",
   "execution_count": 43,
   "metadata": {},
   "outputs": [],
   "source": [
    "input_sequences = []\n",
    "for sentence in faqs.split('\\n'):\n",
    "  tokenized_sentence = tokenizer.texts_to_sequences([sentence])[0]\n",
    "\n",
    "  for i in range(1,len(tokenized_sentence)):\n",
    "    input_sequences.append(tokenized_sentence[:i+1])"
   ]
  },
  {
   "cell_type": "code",
   "execution_count": 44,
   "metadata": {},
   "outputs": [],
   "source": [
    "max_len = max([len(x) for x in input_sequences])"
   ]
  },
  {
   "cell_type": "code",
   "execution_count": 45,
   "metadata": {},
   "outputs": [],
   "source": [
    "from tensorflow.keras.preprocessing.sequence import pad_sequences\n",
    "padded_input_sequences = pad_sequences(input_sequences, maxlen = max_len, padding='pre')"
   ]
  },
  {
   "cell_type": "code",
   "execution_count": 46,
   "metadata": {},
   "outputs": [
    {
     "data": {
      "text/plain": [
       "array([[  0,   0,   0, ...,   0,  93,   1],\n",
       "       [  0,   0,   0, ...,  93,   1,  13],\n",
       "       [  0,   0,   0, ...,   0,  11,   7],\n",
       "       ...,\n",
       "       [  0,   0,   0, ..., 279,  18, 280],\n",
       "       [  0,   0,   0, ...,  18, 280, 281],\n",
       "       [  0,   0,   0, ..., 280, 281, 282]])"
      ]
     },
     "execution_count": 46,
     "metadata": {},
     "output_type": "execute_result"
    }
   ],
   "source": [
    "padded_input_sequences"
   ]
  },
  {
   "cell_type": "code",
   "execution_count": 47,
   "metadata": {},
   "outputs": [],
   "source": [
    "X = padded_input_sequences[:,:-1]"
   ]
  },
  {
   "cell_type": "code",
   "execution_count": 48,
   "metadata": {},
   "outputs": [],
   "source": [
    "y = padded_input_sequences[:,-1]"
   ]
  },
  {
   "cell_type": "code",
   "execution_count": 49,
   "metadata": {},
   "outputs": [
    {
     "data": {
      "text/plain": [
       "(863, 56)"
      ]
     },
     "execution_count": 49,
     "metadata": {},
     "output_type": "execute_result"
    }
   ],
   "source": [
    "X.shape"
   ]
  },
  {
   "cell_type": "code",
   "execution_count": 50,
   "metadata": {},
   "outputs": [],
   "source": [
    "from tensorflow.keras.utils import to_categorical\n",
    "y = to_categorical(y,num_classes=283)"
   ]
  },
  {
   "cell_type": "code",
   "execution_count": 51,
   "metadata": {},
   "outputs": [],
   "source": [
    "from tensorflow.keras.models import Sequential\n",
    "from tensorflow.keras.layers import Embedding, LSTM, Dense"
   ]
  },
  {
   "cell_type": "code",
   "execution_count": 52,
   "metadata": {},
   "outputs": [],
   "source": [
    "model = Sequential()\n",
    "model.add(Embedding(283, 100, input_length=56))\n",
    "model.add(LSTM(150))\n",
    "model.add(Dense(283, activation='softmax'))"
   ]
  },
  {
   "cell_type": "code",
   "execution_count": 53,
   "metadata": {},
   "outputs": [],
   "source": [
    "model.compile(loss='categorical_crossentropy', optimizer='adam',metrics=['accuracy'])"
   ]
  },
  {
   "cell_type": "code",
   "execution_count": 54,
   "metadata": {},
   "outputs": [
    {
     "name": "stdout",
     "output_type": "stream",
     "text": [
      "Model: \"sequential_3\"\n",
      "_________________________________________________________________\n",
      " Layer (type)                Output Shape              Param #   \n",
      "=================================================================\n",
      " embedding_3 (Embedding)     (None, 56, 100)           28300     \n",
      "                                                                 \n",
      " lstm_5 (LSTM)               (None, 150)               150600    \n",
      "                                                                 \n",
      " dense_1 (Dense)             (None, 283)               42733     \n",
      "                                                                 \n",
      "=================================================================\n",
      "Total params: 221,633\n",
      "Trainable params: 221,633\n",
      "Non-trainable params: 0\n",
      "_________________________________________________________________\n"
     ]
    }
   ],
   "source": [
    "model.summary()"
   ]
  },
  {
   "cell_type": "code",
   "execution_count": 55,
   "metadata": {},
   "outputs": [
    {
     "name": "stdout",
     "output_type": "stream",
     "text": [
      "Epoch 1/100\n",
      "27/27 [==============================] - 5s 14ms/step - loss: 5.4482 - accuracy: 0.0718\n",
      "Epoch 2/100\n",
      "27/27 [==============================] - 0s 10ms/step - loss: 5.0916 - accuracy: 0.0776\n",
      "Epoch 3/100\n",
      "27/27 [==============================] - 0s 10ms/step - loss: 5.0304 - accuracy: 0.0776\n",
      "Epoch 4/100\n",
      "27/27 [==============================] - 0s 10ms/step - loss: 4.9887 - accuracy: 0.0776\n",
      "Epoch 5/100\n",
      "27/27 [==============================] - 0s 10ms/step - loss: 4.9478 - accuracy: 0.0776\n",
      "Epoch 6/100\n",
      "27/27 [==============================] - 0s 9ms/step - loss: 4.8793 - accuracy: 0.0776\n",
      "Epoch 7/100\n",
      "27/27 [==============================] - 0s 10ms/step - loss: 4.7769 - accuracy: 0.0823\n",
      "Epoch 8/100\n",
      "27/27 [==============================] - 0s 10ms/step - loss: 4.6306 - accuracy: 0.1112\n",
      "Epoch 9/100\n",
      "27/27 [==============================] - 0s 9ms/step - loss: 4.4385 - accuracy: 0.1425\n",
      "Epoch 10/100\n",
      "27/27 [==============================] - 0s 9ms/step - loss: 4.2208 - accuracy: 0.1831\n",
      "Epoch 11/100\n",
      "27/27 [==============================] - 0s 10ms/step - loss: 3.9740 - accuracy: 0.2202\n",
      "Epoch 12/100\n",
      "27/27 [==============================] - 0s 10ms/step - loss: 3.7447 - accuracy: 0.2457\n",
      "Epoch 13/100\n",
      "27/27 [==============================] - 0s 10ms/step - loss: 3.5164 - accuracy: 0.2897\n",
      "Epoch 14/100\n",
      "27/27 [==============================] - 0s 10ms/step - loss: 3.2963 - accuracy: 0.3163\n",
      "Epoch 15/100\n",
      "27/27 [==============================] - 0s 10ms/step - loss: 3.0798 - accuracy: 0.3546\n",
      "Epoch 16/100\n",
      "27/27 [==============================] - 0s 9ms/step - loss: 2.8813 - accuracy: 0.3743\n",
      "Epoch 17/100\n",
      "27/27 [==============================] - 0s 10ms/step - loss: 2.6866 - accuracy: 0.4218\n",
      "Epoch 18/100\n",
      "27/27 [==============================] - 0s 10ms/step - loss: 2.5024 - accuracy: 0.4693\n",
      "Epoch 19/100\n",
      "27/27 [==============================] - 0s 10ms/step - loss: 2.3335 - accuracy: 0.4948\n",
      "Epoch 20/100\n",
      "27/27 [==============================] - 0s 10ms/step - loss: 2.1720 - accuracy: 0.5226\n",
      "Epoch 21/100\n",
      "27/27 [==============================] - 0s 10ms/step - loss: 2.0268 - accuracy: 0.5585\n",
      "Epoch 22/100\n",
      "27/27 [==============================] - 0s 10ms/step - loss: 1.8850 - accuracy: 0.5944\n",
      "Epoch 23/100\n",
      "27/27 [==============================] - 0s 10ms/step - loss: 1.7462 - accuracy: 0.6304\n",
      "Epoch 24/100\n",
      "27/27 [==============================] - 0s 10ms/step - loss: 1.6286 - accuracy: 0.6640\n",
      "Epoch 25/100\n",
      "27/27 [==============================] - 0s 10ms/step - loss: 1.5109 - accuracy: 0.6952\n",
      "Epoch 26/100\n",
      "27/27 [==============================] - 0s 10ms/step - loss: 1.4036 - accuracy: 0.7289\n",
      "Epoch 27/100\n",
      "27/27 [==============================] - 0s 10ms/step - loss: 1.3068 - accuracy: 0.7462\n",
      "Epoch 28/100\n",
      "27/27 [==============================] - 0s 10ms/step - loss: 1.2183 - accuracy: 0.7798\n",
      "Epoch 29/100\n",
      "27/27 [==============================] - 0s 10ms/step - loss: 1.1429 - accuracy: 0.7856\n",
      "Epoch 30/100\n",
      "27/27 [==============================] - 0s 10ms/step - loss: 1.0653 - accuracy: 0.8146\n",
      "Epoch 31/100\n",
      "27/27 [==============================] - 0s 10ms/step - loss: 0.9930 - accuracy: 0.8262\n",
      "Epoch 32/100\n",
      "27/27 [==============================] - 0s 10ms/step - loss: 0.9278 - accuracy: 0.8470\n",
      "Epoch 33/100\n",
      "27/27 [==============================] - 0s 10ms/step - loss: 0.8711 - accuracy: 0.8644\n",
      "Epoch 34/100\n",
      "27/27 [==============================] - 0s 10ms/step - loss: 0.8162 - accuracy: 0.8772\n",
      "Epoch 35/100\n",
      "27/27 [==============================] - 0s 10ms/step - loss: 0.7671 - accuracy: 0.8876\n",
      "Epoch 36/100\n",
      "27/27 [==============================] - 0s 11ms/step - loss: 0.7194 - accuracy: 0.8795\n",
      "Epoch 37/100\n",
      "27/27 [==============================] - 0s 10ms/step - loss: 0.6783 - accuracy: 0.8980\n",
      "Epoch 38/100\n",
      "27/27 [==============================] - 0s 10ms/step - loss: 0.6395 - accuracy: 0.9015\n",
      "Epoch 39/100\n",
      "27/27 [==============================] - 0s 10ms/step - loss: 0.6045 - accuracy: 0.9131\n",
      "Epoch 40/100\n",
      "27/27 [==============================] - 0s 10ms/step - loss: 0.5677 - accuracy: 0.9166\n",
      "Epoch 41/100\n",
      "27/27 [==============================] - 0s 10ms/step - loss: 0.5423 - accuracy: 0.9224\n",
      "Epoch 42/100\n",
      "27/27 [==============================] - 0s 10ms/step - loss: 0.5138 - accuracy: 0.9282\n",
      "Epoch 43/100\n",
      "27/27 [==============================] - 0s 10ms/step - loss: 0.4865 - accuracy: 0.9328\n",
      "Epoch 44/100\n",
      "27/27 [==============================] - 0s 10ms/step - loss: 0.4647 - accuracy: 0.9374\n",
      "Epoch 45/100\n",
      "27/27 [==============================] - 0s 9ms/step - loss: 0.4413 - accuracy: 0.9351\n",
      "Epoch 46/100\n",
      "27/27 [==============================] - 0s 11ms/step - loss: 0.4198 - accuracy: 0.9409\n",
      "Epoch 47/100\n",
      "27/27 [==============================] - 0s 12ms/step - loss: 0.4020 - accuracy: 0.9363\n",
      "Epoch 48/100\n",
      "27/27 [==============================] - 0s 13ms/step - loss: 0.3862 - accuracy: 0.9409\n",
      "Epoch 49/100\n",
      "27/27 [==============================] - 0s 14ms/step - loss: 0.3690 - accuracy: 0.9409\n",
      "Epoch 50/100\n",
      "27/27 [==============================] - 0s 12ms/step - loss: 0.3540 - accuracy: 0.9479\n",
      "Epoch 51/100\n",
      "27/27 [==============================] - 0s 12ms/step - loss: 0.3402 - accuracy: 0.9444\n",
      "Epoch 52/100\n",
      "27/27 [==============================] - 0s 13ms/step - loss: 0.3274 - accuracy: 0.9444\n",
      "Epoch 53/100\n",
      "27/27 [==============================] - 0s 11ms/step - loss: 0.3147 - accuracy: 0.9421\n",
      "Epoch 54/100\n",
      "27/27 [==============================] - 0s 11ms/step - loss: 0.3038 - accuracy: 0.9421\n",
      "Epoch 55/100\n",
      "27/27 [==============================] - 0s 12ms/step - loss: 0.2940 - accuracy: 0.9490\n",
      "Epoch 56/100\n",
      "27/27 [==============================] - 0s 12ms/step - loss: 0.2860 - accuracy: 0.9467\n",
      "Epoch 57/100\n",
      "27/27 [==============================] - 0s 11ms/step - loss: 0.2757 - accuracy: 0.9467\n",
      "Epoch 58/100\n",
      "27/27 [==============================] - 0s 12ms/step - loss: 0.2673 - accuracy: 0.9421\n",
      "Epoch 59/100\n",
      "27/27 [==============================] - 0s 11ms/step - loss: 0.2612 - accuracy: 0.9467\n",
      "Epoch 60/100\n",
      "27/27 [==============================] - 0s 11ms/step - loss: 0.2515 - accuracy: 0.9467\n",
      "Epoch 61/100\n",
      "27/27 [==============================] - 0s 11ms/step - loss: 0.2442 - accuracy: 0.9490\n",
      "Epoch 62/100\n",
      "27/27 [==============================] - 0s 11ms/step - loss: 0.2382 - accuracy: 0.9467\n",
      "Epoch 63/100\n",
      "27/27 [==============================] - 0s 11ms/step - loss: 0.2343 - accuracy: 0.9479\n",
      "Epoch 64/100\n",
      "27/27 [==============================] - 0s 11ms/step - loss: 0.2273 - accuracy: 0.9479\n",
      "Epoch 65/100\n",
      "27/27 [==============================] - 0s 11ms/step - loss: 0.2212 - accuracy: 0.9421\n",
      "Epoch 66/100\n",
      "27/27 [==============================] - 0s 11ms/step - loss: 0.2164 - accuracy: 0.9479\n",
      "Epoch 67/100\n",
      "27/27 [==============================] - 0s 11ms/step - loss: 0.2132 - accuracy: 0.9421\n",
      "Epoch 68/100\n",
      "27/27 [==============================] - 0s 11ms/step - loss: 0.2076 - accuracy: 0.9490\n",
      "Epoch 69/100\n",
      "27/27 [==============================] - 0s 12ms/step - loss: 0.2031 - accuracy: 0.9444\n",
      "Epoch 70/100\n",
      "27/27 [==============================] - 0s 11ms/step - loss: 0.1980 - accuracy: 0.9444\n",
      "Epoch 71/100\n",
      "27/27 [==============================] - 0s 12ms/step - loss: 0.1941 - accuracy: 0.9537\n",
      "Epoch 72/100\n",
      "27/27 [==============================] - 0s 11ms/step - loss: 0.1908 - accuracy: 0.9467\n",
      "Epoch 73/100\n",
      "27/27 [==============================] - 0s 12ms/step - loss: 0.1867 - accuracy: 0.9490\n",
      "Epoch 74/100\n",
      "27/27 [==============================] - 0s 11ms/step - loss: 0.1846 - accuracy: 0.9479\n",
      "Epoch 75/100\n",
      "27/27 [==============================] - 0s 12ms/step - loss: 0.1812 - accuracy: 0.9455\n",
      "Epoch 76/100\n",
      "27/27 [==============================] - 0s 12ms/step - loss: 0.1777 - accuracy: 0.9444\n",
      "Epoch 77/100\n",
      "27/27 [==============================] - 0s 12ms/step - loss: 0.1753 - accuracy: 0.9455\n",
      "Epoch 78/100\n",
      "27/27 [==============================] - 0s 11ms/step - loss: 0.1749 - accuracy: 0.9432\n",
      "Epoch 79/100\n",
      "27/27 [==============================] - 0s 12ms/step - loss: 0.1714 - accuracy: 0.9455\n",
      "Epoch 80/100\n",
      "27/27 [==============================] - 0s 11ms/step - loss: 0.1676 - accuracy: 0.9502\n",
      "Epoch 81/100\n",
      "27/27 [==============================] - 0s 12ms/step - loss: 0.1651 - accuracy: 0.9479\n",
      "Epoch 82/100\n",
      "27/27 [==============================] - 0s 11ms/step - loss: 0.1632 - accuracy: 0.9467\n",
      "Epoch 83/100\n",
      "27/27 [==============================] - 0s 11ms/step - loss: 0.1618 - accuracy: 0.9455\n",
      "Epoch 84/100\n",
      "27/27 [==============================] - 0s 11ms/step - loss: 0.1604 - accuracy: 0.9455\n",
      "Epoch 85/100\n",
      "27/27 [==============================] - 0s 11ms/step - loss: 0.1573 - accuracy: 0.9467\n",
      "Epoch 86/100\n",
      "27/27 [==============================] - 0s 11ms/step - loss: 0.1573 - accuracy: 0.9444\n",
      "Epoch 87/100\n",
      "27/27 [==============================] - 0s 10ms/step - loss: 0.1564 - accuracy: 0.9421\n",
      "Epoch 88/100\n",
      "27/27 [==============================] - 0s 12ms/step - loss: 0.1531 - accuracy: 0.9455\n",
      "Epoch 89/100\n",
      "27/27 [==============================] - 0s 11ms/step - loss: 0.1513 - accuracy: 0.9467\n",
      "Epoch 90/100\n",
      "27/27 [==============================] - 0s 12ms/step - loss: 0.1484 - accuracy: 0.9432\n",
      "Epoch 91/100\n",
      "27/27 [==============================] - 0s 12ms/step - loss: 0.1492 - accuracy: 0.9444\n",
      "Epoch 92/100\n",
      "27/27 [==============================] - 0s 11ms/step - loss: 0.1484 - accuracy: 0.9409\n",
      "Epoch 93/100\n",
      "27/27 [==============================] - 0s 11ms/step - loss: 0.1448 - accuracy: 0.9432\n",
      "Epoch 94/100\n",
      "27/27 [==============================] - 0s 11ms/step - loss: 0.1452 - accuracy: 0.9455\n",
      "Epoch 95/100\n",
      "27/27 [==============================] - 0s 12ms/step - loss: 0.1423 - accuracy: 0.9479\n",
      "Epoch 96/100\n",
      "27/27 [==============================] - 0s 12ms/step - loss: 0.1418 - accuracy: 0.9479\n",
      "Epoch 97/100\n",
      "27/27 [==============================] - 0s 12ms/step - loss: 0.1405 - accuracy: 0.9455\n",
      "Epoch 98/100\n",
      "27/27 [==============================] - 0s 12ms/step - loss: 0.1386 - accuracy: 0.9467\n",
      "Epoch 99/100\n",
      "27/27 [==============================] - 0s 12ms/step - loss: 0.1380 - accuracy: 0.9374\n",
      "Epoch 100/100\n",
      "27/27 [==============================] - 0s 12ms/step - loss: 0.1372 - accuracy: 0.9479\n"
     ]
    },
    {
     "data": {
      "text/plain": [
       "<keras.callbacks.History at 0x1b868636560>"
      ]
     },
     "execution_count": 55,
     "metadata": {},
     "output_type": "execute_result"
    }
   ],
   "source": [
    "model.fit(X,y,epochs=100)"
   ]
  },
  {
   "cell_type": "code",
   "execution_count": 57,
   "metadata": {},
   "outputs": [
    {
     "name": "stdout",
     "output_type": "stream",
     "text": [
      "1/1 [==============================] - 0s 273ms/step\n",
      "what is the fee of\n",
      "1/1 [==============================] - 0s 18ms/step\n",
      "what is the fee of the\n",
      "1/1 [==============================] - 0s 16ms/step\n",
      "what is the fee of the mentorship\n",
      "1/1 [==============================] - 0s 16ms/step\n",
      "what is the fee of the mentorship program\n",
      "1/1 [==============================] - 0s 17ms/step\n",
      "what is the fee of the mentorship program fee\n",
      "1/1 [==============================] - 0s 15ms/step\n",
      "what is the fee of the mentorship program fee of\n",
      "1/1 [==============================] - 0s 16ms/step\n",
      "what is the fee of the mentorship program fee of rs\n",
      "1/1 [==============================] - 0s 16ms/step\n",
      "what is the fee of the mentorship program fee of rs 5600\n",
      "1/1 [==============================] - 0s 16ms/step\n",
      "what is the fee of the mentorship program fee of rs 5600 approx\n",
      "1/1 [==============================] - 0s 16ms/step\n",
      "what is the fee of the mentorship program fee of rs 5600 approx for\n"
     ]
    }
   ],
   "source": [
    "import numpy as np\n",
    "import time\n",
    "text = \"what is the fee\"\n",
    "\n",
    "for i in range(10):\n",
    "  # tokenize\n",
    "  token_text = tokenizer.texts_to_sequences([text])[0]\n",
    "  # padding\n",
    "  padded_token_text = pad_sequences([token_text], maxlen=56, padding='pre')\n",
    "  # predict\n",
    "  pos = np.argmax(model.predict(padded_token_text))\n",
    "\n",
    "  for word,index in tokenizer.word_index.items():\n",
    "    if index == pos:\n",
    "      text = text + \" \" + word\n",
    "      print(text)\n",
    "      time.sleep(2)"
   ]
  },
  {
   "cell_type": "code",
   "execution_count": null,
   "metadata": {},
   "outputs": [],
   "source": []
  }
 ],
 "metadata": {
  "kernelspec": {
   "display_name": "base",
   "language": "python",
   "name": "python3"
  },
  "language_info": {
   "codemirror_mode": {
    "name": "ipython",
    "version": 3
   },
   "file_extension": ".py",
   "mimetype": "text/x-python",
   "name": "python",
   "nbconvert_exporter": "python",
   "pygments_lexer": "ipython3",
   "version": "3.10.13"
  }
 },
 "nbformat": 4,
 "nbformat_minor": 2
}
